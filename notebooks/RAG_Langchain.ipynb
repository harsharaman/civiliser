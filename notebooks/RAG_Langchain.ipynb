{
 "cells": [
  {
   "cell_type": "markdown",
   "metadata": {},
   "source": [
    "# LLM Powered Resume Extractor \n",
    "\n",
    "### A simple Retrieval Augmented Generation (RAG) pipeline built on Langchain"
   ]
  },
  {
   "cell_type": "markdown",
   "metadata": {},
   "source": [
    "Part 1: Data Ingestion"
   ]
  },
  {
   "cell_type": "code",
   "execution_count": 1,
   "metadata": {},
   "outputs": [],
   "source": [
    "# Read resumes\n",
    "import os\n",
    "from langchain_community.document_loaders import PyPDFLoader\n",
    "from helper_functions import remove_escape_characters\n",
    "\n",
    "resume_folder_path = \"../data/resumes\"\n",
    "\n",
    "resume_docs = []\n",
    "for filename in os.listdir(resume_folder_path):\n",
    "    if filename.endswith(\"pdf\"):\n",
    "        filepath = os.path.join(resume_folder_path, filename)\n",
    "        loader = PyPDFLoader(filepath)\n",
    "        async for page in loader.alazy_load():\n",
    "            page.page_content = remove_escape_characters(page.page_content)\n",
    "            resume_docs.append(page)"
   ]
  },
  {
   "cell_type": "code",
   "execution_count": 2,
   "metadata": {},
   "outputs": [],
   "source": [
    "# Read job description\n",
    "jd_file_path = \"../data/jd_software_engg.pdf\"\n",
    "\n",
    "jd_docs = []\n",
    "loader = PyPDFLoader(jd_file_path)\n",
    "async for page in loader.alazy_load():\n",
    "    page.page_content = remove_escape_characters(page.page_content)\n",
    "    jd_docs.append(page)"
   ]
  },
  {
   "cell_type": "markdown",
   "metadata": {},
   "source": [
    "Part 2: Data Processing"
   ]
  },
  {
   "cell_type": "code",
   "execution_count": 3,
   "metadata": {},
   "outputs": [],
   "source": [
    "# Step 1: Chunk and embed resumes\n",
    "from langchain_text_splitters import RecursiveCharacterTextSplitter\n",
    "\n",
    "\n",
    "def get_text_splitter(chunk_size: int=100, chunk_overlap: int=60):\n",
    "    text_splitter = RecursiveCharacterTextSplitter(\n",
    "        chunk_size=chunk_size, \n",
    "        chunk_overlap = chunk_overlap,\n",
    "        length_function = len,\n",
    "    )\n",
    "    return text_splitter"
   ]
  },
  {
   "cell_type": "code",
   "execution_count": 4,
   "metadata": {},
   "outputs": [
    {
     "name": "stdout",
     "output_type": "stream",
     "text": [
      "Total number of chunks: 274\n"
     ]
    }
   ],
   "source": [
    "resume_chunks = get_text_splitter().split_documents(resume_docs)\n",
    "print(f\"Total number of chunks: {len(resume_chunks)}\")"
   ]
  },
  {
   "cell_type": "code",
   "execution_count": 5,
   "metadata": {},
   "outputs": [
    {
     "name": "stdout",
     "output_type": "stream",
     "text": [
      "Chunk number 158: page_content='100% accuracy by verifying entries and comparing system reports to balances  · Reduced vendor' metadata={'source': '../data/resumes/resume-accounts-payable.pdf', 'page': 0}\n"
     ]
    }
   ],
   "source": [
    "# Inspect a random chunk\n",
    "import random\n",
    "idx = random.randint(0, len(resume_chunks))\n",
    "print(f\"Chunk number {idx}: {resume_chunks[idx]}\")"
   ]
  },
  {
   "cell_type": "code",
   "execution_count": 6,
   "metadata": {},
   "outputs": [],
   "source": [
    "# Visualizing the distribution\n",
    "import matplotlib.pyplot as plt\n",
    "\n",
    "def plot_histogram_of_chunk_length(list_of_char_lengths: list[int],\n",
    "                                   title:str='Histogram of Chunk Lengths',\n",
    "                                   bins:int=2):\n",
    "    plt.hist(list_of_char_lengths, bins=bins)\n",
    "\n",
    "    # Add titles and labels\n",
    "    plt.title(title)\n",
    "    plt.xlabel('Value')\n",
    "    plt.ylabel('Frequency')\n",
    "\n",
    "    # Show the plot\n",
    "    plt.show()\n",
    "    return"
   ]
  },
  {
   "cell_type": "code",
   "execution_count": 7,
   "metadata": {},
   "outputs": [
    {
     "data": {
      "image/png": "[encoded data removed]",
      "text/plain": [
       "<Figure size 640x480 with 1 Axes>"
      ]
     },
     "metadata": {},
     "output_type": "display_data"
    }
   ],
   "source": [
    "len_every_resume_chunk = [len(chunk.page_content) for chunk in resume_chunks]\n",
    "plot_histogram_of_chunk_length(len_every_resume_chunk, bins=50)"
   ]
  },
  {
   "cell_type": "markdown",
   "metadata": {},
   "source": [
    "Part 3: [Embeddings](https://huggingface.co/sentence-transformers/all-MiniLM-L6-v2) Generation and [Database](https://docs.trychroma.com/getting-started) storage"
   ]
  },
  {
   "cell_type": "code",
   "execution_count": 8,
   "metadata": {},
   "outputs": [
    {
     "name": "stderr",
     "output_type": "stream",
     "text": [
      "/home/harsha/code/bmw-tata-jv/civiliser/civiliser_venv/lib/python3.10/site-packages/sentence_transformers/cross_encoder/CrossEncoder.py:13: TqdmWarning: IProgress not found. Please update jupyter and ipywidgets. See https://ipywidgets.readthedocs.io/en/stable/user_install.html\n",
      "  from tqdm.autonotebook import tqdm, trange\n"
     ]
    }
   ],
   "source": [
    "import chromadb\n",
    "from chromadb.utils.embedding_functions import create_langchain_embedding\n",
    "from langchain_huggingface import HuggingFaceEmbeddings\n",
    "\n",
    "langchain_embeddings = HuggingFaceEmbeddings(model_name=\"all-MiniLM-L6-v2\")\n",
    "\n",
    "ef = create_langchain_embedding(langchain_embeddings)\n",
    "client = chromadb.PersistentClient(path=\"./chroma-data\")\n",
    "collection = client.get_or_create_collection(name=\"resume_collection\", embedding_function=ef)\n",
    "\n",
    "documents, ids, metadatas = [], [], []\n",
    "for id, chunk in enumerate(resume_chunks):\n",
    "    ids.append(str(id+1))\n",
    "    documents.append(chunk.page_content)\n",
    "    metadatas.append(chunk.metadata)\n",
    "\n",
    "collection.add(ids=ids,documents=documents, metadatas=metadatas)"
   ]
  },
  {
   "cell_type": "markdown",
   "metadata": {},
   "source": [
    "Part 4: Skills Extraction from LLM"
   ]
  },
  {
   "cell_type": "code",
   "execution_count": 9,
   "metadata": {},
   "outputs": [],
   "source": [
    "from dotenv import load_dotenv\n",
    "load_dotenv()\n",
    "\n",
    "OPEN_API_KEY = os.environ.get(\"OPENAI_API_KEY\")"
   ]
  },
  {
   "cell_type": "code",
   "execution_count": 10,
   "metadata": {},
   "outputs": [],
   "source": [
    "from prompt import PROMPT\n",
    "from langchain_core.prompts import PromptTemplate\n",
    "\n",
    "prompt_template = PromptTemplate.from_template(PROMPT)"
   ]
  },
  {
   "cell_type": "code",
   "execution_count": 11,
   "metadata": {},
   "outputs": [],
   "source": [
    "from langchain_openai import ChatOpenAI\n",
    "from langchain.chains import LLMChain\n",
    "\n",
    "llm = ChatOpenAI(model=\"gpt-4\")"
   ]
  },
  {
   "cell_type": "code",
   "execution_count": 12,
   "metadata": {},
   "outputs": [],
   "source": [
    "from langchain_core.output_parsers import StrOutputParser\n",
    "parser = StrOutputParser()"
   ]
  },
  {
   "cell_type": "code",
   "execution_count": 13,
   "metadata": {},
   "outputs": [],
   "source": [
    "# Helper function to post-process LLM response\n",
    "\n",
    "def string_to_list(s):\n",
    "    \"\"\"\n",
    "    Convert a string representation of a list to an actual list.\n",
    "\n",
    "    This function takes a string that represents a list (e.g., '[item1, item2, item3]') and converts it into an actual list of strings.\n",
    "    The function removes the first and last characters (the brackets), splits the string into individual items using commas as delimiters,\n",
    "    and removes any leading or trailing whitespaces from each item.\n",
    "\n",
    "    Args:\n",
    "        s (str): The input string to convert.\n",
    "\n",
    "    Returns:\n",
    "        list[str]: The converted list of strings.\n",
    "\n",
    "    Examples:\n",
    "        >>> string_to_list('[item1, item2, item3]')\n",
    "        ['item1', 'item2', 'item3']\n",
    "    \"\"\"\n",
    "    # Remove the first and last characters (the brackets)\n",
    "    s = s[1:-1]\n",
    "    # Split the string into a list using comma as delimiter\n",
    "    # Also, remove any leading or trailing whitespaces from each item\n",
    "    return [str(item.strip()) for item in s.split(',')]"
   ]
  },
  {
   "cell_type": "code",
   "execution_count": 14,
   "metadata": {},
   "outputs": [
    {
     "data": {
      "text/plain": [
       "['Java', 'Python', 'Agile']"
      ]
     },
     "execution_count": 14,
     "metadata": {},
     "output_type": "execute_result"
    }
   ],
   "source": [
    "chain = prompt_template | llm | parser\n",
    "results_chain = chain.invoke({\"job_description\": jd_docs[0].page_content})\n",
    "results = string_to_list(results_chain)\n",
    "results"
   ]
  },
  {
   "cell_type": "markdown",
   "metadata": {},
   "source": [
    "Part 5: Database Retrieval"
   ]
  },
  {
   "cell_type": "code",
   "execution_count": 15,
   "metadata": {},
   "outputs": [
    {
     "data": {
      "text/plain": [
       "{'ids': [['29', '50', '61'], ['49', '229', '257'], ['245', '244', '60']],\n",
       " 'distances': None,\n",
       " 'metadatas': [[{'page': 0,\n",
       "    'source': '../data/resumes/resume-software-engg.pdf'},\n",
       "   {'page': 0, 'source': '../data/resumes/resume-software-engg.pdf'},\n",
       "   {'page': 0, 'source': '../data/resumes/resume-software-engg.pdf'}],\n",
       "  [{'page': 0, 'source': '../data/resumes/resume-software-engg.pdf'},\n",
       "   {'page': 0, 'source': '../data/resumes/resume-senior-python-dev.pdf'},\n",
       "   {'page': 0, 'source': '../data/resumes/resume-senior-python-dev.pdf'}],\n",
       "  [{'page': 0, 'source': '../data/resumes/resume-senior-python-dev.pdf'},\n",
       "   {'page': 0, 'source': '../data/resumes/resume-senior-python-dev.pdf'},\n",
       "   {'page': 0, 'source': '../data/resumes/resume-software-engg.pdf'}]],\n",
       " 'embeddings': None,\n",
       " 'documents': [['system, increasing system tenfold  Developed user-friendly interfaces using J2EE and JavaScript',\n",
       "   'IBM  SKILLS  Programming Languages: Python (Advanced), Java (Advanced), C++ (Intermediate),',\n",
       "   'Oracle Certified Professional Java SE 8 Programmer (2017), AWS Certified Solutions Architect (2019)'],\n",
       "  ['coursework while interning at IBM  SKILLS  Programming Languages: Python (Advanced), Java',\n",
       "   'GIULIA GONZALEZ  PYTHON DEVELOPER  CONTACT  ggonzalez@email.com  (123) 456-7890  Detroit, MI',\n",
       "   'solutions for the user experience  Python Developer Intern  Knewton  April 2016 - April 2017 /'],\n",
       "  ['with an agile team of 6, and helped prioritize and scope  feature requests to ensure that the',\n",
       "   'for the average user by 2  minutes  Collaborated with an agile team of 6, and helped prioritize and',\n",
       "   'Agile Methodology, Scrum  OTHER  Certifications: Oracle Certified Professional Java SE 8 Programmer']],\n",
       " 'uris': None,\n",
       " 'data': None,\n",
       " 'included': ['metadatas', 'documents']}"
      ]
     },
     "execution_count": 15,
     "metadata": {},
     "output_type": "execute_result"
    }
   ],
   "source": [
    "collection.query(\n",
    "    query_texts=results,\n",
    "    n_results=3,\n",
    "    include=[\"metadatas\", \"documents\"]\n",
    ")"
   ]
  }
 ],
 "metadata": {
  "kernelspec": {
   "display_name": "civiliser_venv",
   "language": "python",
   "name": "python3"
  },
  "language_info": {
   "codemirror_mode": {
    "name": "ipython",
    "version": 3
   },
   "file_extension": ".py",
   "mimetype": "text/x-python",
   "name": "python",
   "nbconvert_exporter": "python",
   "pygments_lexer": "ipython3",
   "version": "3.10.12"
  }
 },
 "nbformat": 4,
 "nbformat_minor": 2
}
