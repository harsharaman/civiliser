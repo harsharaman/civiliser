{
 "cells": [
  {
   "cell_type": "code",
   "execution_count": 1,
   "metadata": {},
   "outputs": [],
   "source": [
    "from langchain_community.document_loaders import PyPDFLoader\n",
    "\n",
    "# Step 1: Read the job description\n",
    "JD_FILE_PATH = \"../data/jd-accounts-specialist.pdf\"\n",
    "\n",
    "loader = PyPDFLoader(JD_FILE_PATH)\n",
    "jd = []\n",
    "async for page in loader.alazy_load():\n",
    "    jd.append(page)"
   ]
  },
  {
   "cell_type": "code",
   "execution_count": 2,
   "metadata": {},
   "outputs": [
    {
     "name": "stdout",
     "output_type": "stream",
     "text": [
      "page_content='Job brief  \n",
      "We are looking for an Accounts Payable Specialist to join our team and work with our accounting \n",
      "department to oversee our organization's expenses.   \n",
      "Accounts Payable Specialist responsibilities include processing payments, verifying invoices and \n",
      "performing account reconciliations as needed.   \n",
      "Ultimately, you will work with our accounting team to ensure our organization's expenditures are accurate \n",
      "and our accounting practices are standardized across the organization.  \n",
      "Responsibilities  \n",
      "· Charge expenses to accounts and cost centers and control petty cash spending  \n",
      "· Verify vendor accounts, pay vendors and resolve purchase order, invoice or payment discrepancies  \n",
      "· Issue purchase order amendments and stop payments  \n",
      "· Monitor payroll expense claims, including salary advances and overtime payments  \n",
      "· Reconcile account transactions with the general ledger  \n",
      "· Perform recordkeeping and prepare financial reports  \n",
      "· Keep informed of regulatory requirements and best practices in accounting  \n",
      "Requirements and skills  \n",
      "· Proven work experience as an Accounts Payable Specialist or similar role  \n",
      "· Advanced competency in accounting and business management software  \n",
      "· In-depth knowledge of accounts payable principles, accounting standards and industry regulations  \n",
      "· Extensive experience in account reconciliation  \n",
      "· Great time management and organizational skills  \n",
      "· Excellent collaboration and communication abilities  \n",
      "· Relevant training and/or certifications as an Accounts Payable Specialist  \n",
      "If you think you are suitable for the role, please upload your updated resume at the portal or send it to \n",
      "recruitment@recruiter.com   \n",
      "  ' metadata={'source': '../data/jd-accounts-specialist.pdf', 'page': 0}\n"
     ]
    }
   ],
   "source": [
    "print(jd[0])\n",
    "\n",
    "# print(f\"{jd[0].metadata}\\n\")\n",
    "# print(jd[0].page_content)"
   ]
  },
  {
   "cell_type": "code",
   "execution_count": 5,
   "metadata": {},
   "outputs": [
    {
     "data": {
      "text/plain": [
       "[\"Job brief   We are looking for an Accounts Payable Specialist to join our team and work with our accounting  department to oversee our organization's expenses.    Accounts Payable Specialist\",\n",
       " 'Accounts Payable Specialist responsibilities include processing payments, verifying invoices and  performing account reconciliations as needed.    Ultimately, you will work with our accounting team',\n",
       " \"work with our accounting team to ensure our organization's expenditures are accurate  and our accounting practices are standardized across the organization.   Responsibilities    Charge expenses to\",\n",
       " 'Charge expenses to accounts and cost centers and control petty cash spending    Verify vendor accounts, pay vendors and resolve purchase order, invoice or payment discrepancies    Issue purchase',\n",
       " 'Issue purchase order amendments and stop payments    Monitor payroll expense claims, including salary advances and overtime payments    Reconcile account transactions with the general ledger',\n",
       " 'with the general ledger    Perform recordkeeping and prepare financial reports    Keep informed of regulatory requirements and best practices in accounting   Requirements and skills    Proven work',\n",
       " 'and skills    Proven work experience as an Accounts Payable Specialist or similar role    Advanced competency in accounting and business management software    In-depth knowledge of accounts payable',\n",
       " 'knowledge of accounts payable principles, accounting standards and industry regulations    Extensive experience in account reconciliation    Great time management and organizational skills',\n",
       " 'and organizational skills    Excellent collaboration and communication abilities    Relevant training and/or certifications as an Accounts Payable Specialist   If you think you are suitable for the',\n",
       " 'you are suitable for the role, please upload your updated resume at the portal or send it to  recruitment@recruiter.com']"
      ]
     },
     "execution_count": 5,
     "metadata": {},
     "output_type": "execute_result"
    }
   ],
   "source": [
    "from langchain_text_splitters import RecursiveCharacterTextSplitter\n",
    "\n",
    "# Text pre-processing\n",
    "jd = jd[0].page_content.replace(\"\\n\", \" \").replace(\"·\", \"\")\n",
    "\n",
    "splitter = RecursiveCharacterTextSplitter(\n",
    "    chunk_size=200, \n",
    "    chunk_overlap = 30,\n",
    "    length_function = len,\n",
    ")\n",
    "\n",
    "chunks = splitter.split_text(jd)\n",
    "chunks"
   ]
  }
 ],
 "metadata": {
  "kernelspec": {
   "display_name": "civiliser_venv",
   "language": "python",
   "name": "python3"
  },
  "language_info": {
   "codemirror_mode": {
    "name": "ipython",
    "version": 3
   },
   "file_extension": ".py",
   "mimetype": "text/x-python",
   "name": "python",
   "nbconvert_exporter": "python",
   "pygments_lexer": "ipython3",
   "version": "3.10.12"
  }
 },
 "nbformat": 4,
 "nbformat_minor": 2
}
